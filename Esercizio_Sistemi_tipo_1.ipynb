{
  "nbformat": 4,
  "nbformat_minor": 0,
  "metadata": {
    "colab": {
      "provenance": [],
      "authorship_tag": "ABX9TyOQsOZddmL1UII4/Qnhmjs9",
      "include_colab_link": true
    },
    "kernelspec": {
      "name": "python3",
      "display_name": "Python 3"
    },
    "language_info": {
      "name": "python"
    }
  },
  "cells": [
    {
      "cell_type": "markdown",
      "metadata": {
        "id": "view-in-github",
        "colab_type": "text"
      },
      "source": [
        "<a href=\"https://colab.research.google.com/github/davidedifilippo/learning_feedback_control_systems/blob/main/Esercizio_Sistemi_tipo_1.ipynb\" target=\"_parent\"><img src=\"https://colab.research.google.com/assets/colab-badge.svg\" alt=\"Open In Colab\"/></a>"
      ]
    },
    {
      "cell_type": "code",
      "source": [
        "!pip install control"
      ],
      "metadata": {
        "id": "eUbjrpMP3k3V"
      },
      "execution_count": null,
      "outputs": []
    },
    {
      "cell_type": "code",
      "execution_count": null,
      "metadata": {
        "id": "VpcQ_2EA3Dwl"
      },
      "outputs": [],
      "source": [
        "#importo le librerie per i calcoli e i grafici \n",
        "import numpy as np\n",
        "import control\n",
        "import matplotlib.pyplot as plt"
      ]
    },
    {
      "cell_type": "code",
      "source": [
        "# Define Direct Transfer Function\n",
        "\n",
        "# s+5\n",
        "num = np.array([1, 5])\n",
        "# s(s+3) = s^2+3s+0\n",
        "den = np.array([1, 3, 0])\n",
        "\n",
        "F = control.tf(num, den)\n",
        "\n",
        "print('F(s) =', F)"
      ],
      "metadata": {
        "id": "Vro3UaeY35W8"
      },
      "execution_count": null,
      "outputs": []
    },
    {
      "cell_type": "code",
      "source": [
        "# Define Feedback Transfer Function\n",
        "\n",
        "H = 1\n",
        "K_desiderato = (1/H)"
      ],
      "metadata": {
        "id": "RNJF7jep3-dK"
      },
      "execution_count": null,
      "outputs": []
    },
    {
      "cell_type": "code",
      "source": [
        "# Calcolo la funzione di trasferimento del sistema retroazionato\n",
        "\n",
        "W = control.feedback(F, H)\n",
        "print('W(s) =', W)"
      ],
      "metadata": {
        "id": "6yXY2dQr4MXk"
      },
      "execution_count": null,
      "outputs": []
    },
    {
      "cell_type": "code",
      "source": [
        "# Calcolo i poli della W(s)\n",
        "\n",
        "p = control.poles(W)\n",
        "print('Poli del sistema retroazionato', p)\n",
        "z = control.zeros(W)\n",
        "print('Zeri del sistema retroazionato', z)\n",
        "\n",
        "control.pzmap(W, grid=True)\n",
        "plt.show()"
      ],
      "metadata": {
        "id": "e4rix7-f4erX"
      },
      "execution_count": null,
      "outputs": []
    },
    {
      "cell_type": "code",
      "source": [
        "# Calcolo la funzione di trasferimento di errore We(s)\n",
        "\n",
        "W_errore = control.parallel(K_desiderato, -W)\n",
        "print('We(s) =', W_errore)\n"
      ],
      "metadata": {
        "id": "h8WlfdYl4qWS"
      },
      "execution_count": null,
      "outputs": []
    },
    {
      "cell_type": "code",
      "source": [
        "# Risposta al gradino di ampiezza 1 nel tempo\n",
        "\n",
        "tstart = 0\n",
        "tstop = 4\n",
        "tstep = 0.01\n",
        "\n",
        "t = np.arange(tstart, tstop, tstep)\n",
        "\n",
        "t, y = control.step_response(W, t)"
      ],
      "metadata": {
        "id": "BB67INOc41Pn"
      },
      "execution_count": null,
      "outputs": []
    },
    {
      "cell_type": "code",
      "source": [
        "# risposta a regime al gradino unitario\n",
        "\n",
        "print(\"risposta a regime\", np.round(y[-1], 2))"
      ],
      "metadata": {
        "id": "b_H17F8j5cuz"
      },
      "execution_count": null,
      "outputs": []
    },
    {
      "cell_type": "code",
      "source": [
        "# Errore nel tempo del sistema e(t) = y(t) - Kd*r(t) rispetto al riferimento di ampiezza 1 con Kd = 1\n",
        "\n",
        "t, e = control.step_response(W_errore, t)\n"
      ],
      "metadata": {
        "id": "dyYQBQyc5DxZ"
      },
      "execution_count": null,
      "outputs": []
    },
    {
      "cell_type": "code",
      "source": [
        "#Errore a regime\n",
        "\n",
        "print(\"Errore a regime\", np.round(e[-1], 2))"
      ],
      "metadata": {
        "id": "zEdep7zx6K8H"
      },
      "execution_count": null,
      "outputs": []
    },
    {
      "cell_type": "code",
      "source": [
        "# Guardiamo la risposta nel tempo y(t) e l'errore nel tempo e(t) \n",
        "\n",
        "figure = plt.subplots(figsize=(11, 6))\n",
        "plt.subplot(121)\n",
        "plt.plot(t, y, color= \"orange\")\n",
        "plt.title(\"Risposta al gradino\")\n",
        "plt.grid()\n",
        "\n",
        "\n",
        "plt.subplot(122)\n",
        "plt.plot(t, e)\n",
        "plt.title(\"Errore nel tempo\")\n",
        "plt.grid()\n",
        "\n",
        "# Mostra i due grafici\n",
        "\n",
        "plt.show()"
      ],
      "metadata": {
        "id": "_G0rxTmF5JOn"
      },
      "execution_count": null,
      "outputs": []
    },
    {
      "cell_type": "code",
      "source": [
        "# Risposta alla rampa di pendenza unitaria:\n",
        "\n",
        "r = 1*t\n",
        "\n",
        "# Simulation :\n",
        "\n",
        "t, y = control.forced_response(W, t, r)\n",
        "\n",
        "# Plotting :\n",
        "\n",
        "figure = plt.subplots(figsize=(11, 6))\n",
        "\n",
        "plt.subplot(121)\n",
        "plt.plot(t, y)\n",
        "plt.plot(t, r, color= \"green\")\n",
        "plt.title(\"Risposta alla rampa unitaria\")\n",
        "plt.grid()\n",
        "\n",
        "t, e = control.forced_response(W_errore, t, r)\n",
        "\n",
        "# Plotting :\n",
        "plt.subplot(122)\n",
        "plt.plot(t, e)\n",
        "\n",
        "plt.title(\"errore di velocità\")\n",
        "plt.grid()\n",
        "plt.show()"
      ],
      "metadata": {
        "id": "J1y8unp94_Er"
      },
      "execution_count": null,
      "outputs": []
    }
  ]
}